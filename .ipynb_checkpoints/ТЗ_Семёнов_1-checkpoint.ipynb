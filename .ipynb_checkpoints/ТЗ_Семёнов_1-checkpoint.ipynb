{
 "cells": [
  {
   "cell_type": "markdown",
   "id": "ab70b341",
   "metadata": {},
   "source": [
    "# Вася выписал на доску натуральные числа, все они различны, при том часть из них делятся на 2 но не делятся на 3, а остальные делятся на 3, но не делятся на 2. Петя посмотрел на выписанные на доске числа и заметил, что можно 25 способами выбрать три числа так, чтобы среди них было как минимум одно четное и хотя бы одно число, делящееся на 3.Сколько чисел написал Вася?"
   ]
  },
  {
   "cell_type": "markdown",
   "id": "6840c7a2",
   "metadata": {},
   "source": [
    "## Так как в множестве чисел есть только две группы: делящиеся на 2 или на 3, нам необходимо взять либо 2 числа из одной и 1 из другой, либо наоборот. Выразим множество четных чисел за х, а делящиеся на 3 за у. Тогда 25 способов выбора трех чисел выражается через произведение сочетаний и их сумму. То есть"
   ]
  },
  {
   "cell_type": "markdown",
   "id": "c7d9812d",
   "metadata": {},
   "source": [
    "$C_{x}^{1} \\times C_{y}^{2} + C_{y}^{1} \\times C_{x}^{2} = \\frac{x!}{1 (x-1)!} \\times \\frac{y!}{2(y-2)!} + \\frac{y!}{1 (y-1)!} \\times \\frac{x!}{2(x-2)!} = 25$"
   ]
  },
  {
   "cell_type": "markdown",
   "id": "672b35c9",
   "metadata": {},
   "source": [
    "где сочетание $C_{y}^{2}$ говорит о том, сколькими способами можно взять 2 числа из у множества"
   ]
  },
  {
   "cell_type": "markdown",
   "id": "2c3b5a0f",
   "metadata": {},
   "source": [
    "Преобразуем уравнение и получим $ xy(y-1) + yx(x-1) = 50$"
   ]
  },
  {
   "cell_type": "markdown",
   "id": "afa0fa96",
   "metadata": {},
   "source": [
    "Упрощая выражение, получим $ xy (x+y-2)-50 = 0$"
   ]
  },
  {
   "cell_type": "markdown",
   "id": "d60d8f8d",
   "metadata": {},
   "source": [
    "Импортируем библиотеки для решения уравнения."
   ]
  },
  {
   "cell_type": "code",
   "execution_count": 2,
   "id": "655081b5",
   "metadata": {},
   "outputs": [],
   "source": [
    "from scipy import special\n",
    "from sympy import solve, Symbol"
   ]
  },
  {
   "cell_type": "markdown",
   "id": "99e54fa9",
   "metadata": {},
   "source": [
    "Так как х и у - это количество чисел, то они должны быть целыми неотрицательными. Зададим список из целых чисел, которые будем подставлять в уравнение"
   ]
  },
  {
   "cell_type": "code",
   "execution_count": 23,
   "id": "7d72572a",
   "metadata": {
    "scrolled": true
   },
   "outputs": [
    {
     "name": "stdout",
     "output_type": "stream",
     "text": [
      "число решений задачи: 2\n",
      "Количество четных чисел: 2, нечетных: 5, общее количество записанных чисел 7\n",
      "Количество четных чисел: 5, нечетных: 2, общее количество записанных чисел 7\n"
     ]
    }
   ],
   "source": [
    "list_x = [i for i in range(1, 15)]\n",
    "\n",
    "# Задаем у как неизвестное в уравнении\n",
    "y = Symbol('y')\n",
    "\n",
    "# Сохдаем пустой список, куда будем добавлять пары получившихся корней\n",
    "answers = []\n",
    "# итерируемся по списку х, для каждого икс решаем уравнение\n",
    "for x in list_x:\n",
    "    y_sqrt = solve(x*y*(x+y-2)-50, y)\n",
    "# Так как уравнение квадратное, y_sqrt является списком, проверяем его корни\n",
    "    for elem in y_sqrt:\n",
    "#         если корень неотрицательный и целый, то вписываем пару в answers\n",
    "        if elem > 0 and elem % 1 == 0:\n",
    "            answers.append([x, elem])\n",
    "# Выводим ответ в виде принтов\n",
    "print(f'число решений задачи: {len(answers)}')\n",
    "for answer in answers:\n",
    "    print(f'Количество четных чисел: {answer[0]}, нечетных: {answer[1]}, общее количество записанных чисел {answer[0]+answer[1]}')"
   ]
  },
  {
   "cell_type": "markdown",
   "id": "8681edbd",
   "metadata": {},
   "source": [
    "Таким образом, на доске 7 чисел, 5 одной группы и 2 другой"
   ]
  }
 ],
 "metadata": {
  "kernelspec": {
   "display_name": "Python 3 (ipykernel)",
   "language": "python",
   "name": "python3"
  },
  "language_info": {
   "codemirror_mode": {
    "name": "ipython",
    "version": 3
   },
   "file_extension": ".py",
   "mimetype": "text/x-python",
   "name": "python",
   "nbconvert_exporter": "python",
   "pygments_lexer": "ipython3",
   "version": "3.9.13"
  }
 },
 "nbformat": 4,
 "nbformat_minor": 5
}
